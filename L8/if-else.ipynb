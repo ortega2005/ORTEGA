{
 "cells": [
  {
   "cell_type": "markdown",
   "id": "8f07ba6f",
   "metadata": {},
   "source": [
    "# if-else statement <hr style = \"border:3px solid #DFC5FE\"></hr>"
   ]
  },
  {
   "cell_type": "markdown",
   "id": "2b74069a",
   "metadata": {},
   "source": [
    "Data Analyst: David Santero <br>\n",
    "Department: Electrical Engineering"
   ]
  },
  {
   "cell_type": "markdown",
   "id": "27fd07bb",
   "metadata": {},
   "source": [
    "# if statement"
   ]
  },
  {
   "cell_type": "code",
   "execution_count": 8,
   "id": "05d852a1",
   "metadata": {},
   "outputs": [
    {
     "name": "stdout",
     "output_type": "stream",
     "text": [
      "PASSED!\n"
     ]
    }
   ],
   "source": [
    "# passing score is 5.0\n",
    "grade = 7.3\n",
    "\n",
    "if grade >= 5.0:\n",
    "    print(\"PASSED!\")"
   ]
  },
  {
   "cell_type": "code",
   "execution_count": 2,
   "id": "0550dd0b",
   "metadata": {},
   "outputs": [
    {
     "name": "stdout",
     "output_type": "stream",
     "text": [
      "FAILED\n"
     ]
    }
   ],
   "source": [
    "# two if statement are evaluated\n",
    "grade = 4.5\n",
    "\n",
    "# evaluate grade\n",
    "if grade >= 5.0:\n",
    "    print(\"PASSED\")\n",
    "if grade < 5.0:\n",
    "    print(\"FAILED\")"
   ]
  },
  {
   "cell_type": "markdown",
   "id": "8ca859df",
   "metadata": {},
   "source": [
    "# if-else statement"
   ]
  },
  {
   "cell_type": "code",
   "execution_count": 6,
   "id": "fcd2dd3d",
   "metadata": {},
   "outputs": [
    {
     "name": "stdout",
     "output_type": "stream",
     "text": [
      "FAILED!\n"
     ]
    }
   ],
   "source": [
    "# if grade >= 5.0 is True, else will not be evaluated\n",
    "grade = 4.0\n",
    "\n",
    "# evaluate grade\n",
    "if grade >= 5.0:\n",
    "    print(\"PASSED!\")\n",
    "else:\n",
    "    print(\"FAILED!\")"
   ]
  },
  {
   "cell_type": "markdown",
   "id": "0c775470",
   "metadata": {},
   "source": [
    "# if-elif-else statement"
   ]
  },
  {
   "cell_type": "code",
   "execution_count": 7,
   "id": "aaabfe32",
   "metadata": {},
   "outputs": [
    {
     "name": "stdout",
     "output_type": "stream",
     "text": [
      "FAILED!\n"
     ]
    }
   ],
   "source": [
    "# if grade >= 5.0 is True, other condition will not be evaluated\n",
    "grade = 2.9\n",
    "\n",
    "# evaluated grade\n",
    "if grade >= 5.0:\n",
    "    print(\"PASSED!\")\n",
    "elif grade < 5.0: # < 5.0 evaluated first\n",
    "    print(\"FAILED!\")\n",
    "elif grade < 3.0:\n",
    "    print(\"DISMISSED!\")\n",
    "else:\n",
    "    print(\"INVALID\")"
   ]
  },
  {
   "cell_type": "code",
   "execution_count": 5,
   "id": "0238d664",
   "metadata": {},
   "outputs": [
    {
     "name": "stdout",
     "output_type": "stream",
     "text": [
      "DISMISSED!\n"
     ]
    }
   ],
   "source": [
    "# if grade >= 5.0 is True, other condition will not be evaluated\n",
    "grade = 2.9\n",
    "\n",
    "# evaluated grade\n",
    "if grade >= 5.0:\n",
    "    print(\"PASSED!\")\n",
    "elif grade < 3.0: # < 3.0 evaluated first\n",
    "    print(\"DISMISSED!\")\n",
    "elif grade < 5.0:\n",
    "    print(\"FAILED\")\n",
    "else:\n",
    "    print(\"INVALID\")"
   ]
  }
 ],
 "metadata": {
  "kernelspec": {
   "display_name": "Python 3",
   "language": "python",
   "name": "python3"
  },
  "language_info": {
   "codemirror_mode": {
    "name": "ipython",
    "version": 3
   },
   "file_extension": ".py",
   "mimetype": "text/x-python",
   "name": "python",
   "nbconvert_exporter": "python",
   "pygments_lexer": "ipython3",
   "version": "3.13.2"
  }
 },
 "nbformat": 4,
 "nbformat_minor": 5
}
