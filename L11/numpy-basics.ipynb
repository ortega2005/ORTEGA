{
 "cells": [
  {
   "cell_type": "markdown",
   "id": "a697df82",
   "metadata": {},
   "source": [
    "# Numpy Basics <hr style = \"border:3px solid #DFC5FE\"></hr>"
   ]
  },
  {
   "cell_type": "markdown",
   "id": "a2e43756",
   "metadata": {},
   "source": [
    "Data Analyst: Christian C. Ortega <br>\n",
    "Department: Electrical Engineering"
   ]
  },
  {
   "cell_type": "code",
   "execution_count": 7,
   "id": "9604324a",
   "metadata": {},
   "outputs": [],
   "source": [
    "#%pip install numpy --upgrade"
   ]
  },
  {
   "cell_type": "code",
   "execution_count": 8,
   "id": "163e8331",
   "metadata": {},
   "outputs": [],
   "source": [
    "#%pip install scipy"
   ]
  },
  {
   "cell_type": "code",
   "execution_count": 9,
   "id": "50de85ea",
   "metadata": {},
   "outputs": [],
   "source": [
    "#%pip install scipy --upgrade"
   ]
  },
  {
   "cell_type": "code",
   "execution_count": 51,
   "id": "07bd2ad6",
   "metadata": {},
   "outputs": [],
   "source": [
    "# import and packages\n",
    "import numpy as np\n",
    "from scipy import stats"
   ]
  },
  {
   "cell_type": "markdown",
   "id": "c40a7a32",
   "metadata": {},
   "source": [
    "# 1D Array"
   ]
  },
  {
   "cell_type": "code",
   "execution_count": 11,
   "id": "ff992f41",
   "metadata": {},
   "outputs": [
    {
     "data": {
      "text/plain": [
       "array([1, 2, 3])"
      ]
     },
     "execution_count": 11,
     "metadata": {},
     "output_type": "execute_result"
    }
   ],
   "source": [
    "array_a = np.array([1,2,3])\n",
    "array_a"
   ]
  },
  {
   "cell_type": "markdown",
   "id": "ee85298d",
   "metadata": {},
   "source": [
    "# 2D Array"
   ]
  },
  {
   "cell_type": "code",
   "execution_count": 12,
   "id": "fa9200ab",
   "metadata": {},
   "outputs": [
    {
     "data": {
      "text/plain": [
       "array([[1, 2, 3],\n",
       "       [4, 5, 6]])"
      ]
     },
     "execution_count": 12,
     "metadata": {},
     "output_type": "execute_result"
    }
   ],
   "source": [
    "my_array = np.array([\n",
    "    [1,2,3],\n",
    "    [4,5,6]\n",
    "    ])\n",
    "my_array"
   ]
  },
  {
   "cell_type": "code",
   "execution_count": 13,
   "id": "56465b4f",
   "metadata": {},
   "outputs": [
    {
     "data": {
      "text/plain": [
       "(2, 3)"
      ]
     },
     "execution_count": 13,
     "metadata": {},
     "output_type": "execute_result"
    }
   ],
   "source": [
    "np.shape(my_array)"
   ]
  },
  {
   "cell_type": "code",
   "execution_count": 14,
   "id": "1d2c9396",
   "metadata": {},
   "outputs": [],
   "source": [
    "# transpose of a matrix\n",
    "my_array = my_array.T"
   ]
  },
  {
   "cell_type": "code",
   "execution_count": 15,
   "id": "f3c39c1d",
   "metadata": {},
   "outputs": [
    {
     "data": {
      "text/plain": [
       "array([[1, 4],\n",
       "       [2, 5],\n",
       "       [3, 6]])"
      ]
     },
     "execution_count": 15,
     "metadata": {},
     "output_type": "execute_result"
    }
   ],
   "source": [
    "my_array"
   ]
  },
  {
   "cell_type": "code",
   "execution_count": 16,
   "id": "48a14249",
   "metadata": {},
   "outputs": [
    {
     "data": {
      "text/plain": [
       "array([ 6, 15])"
      ]
     },
     "execution_count": 16,
     "metadata": {},
     "output_type": "execute_result"
    }
   ],
   "source": [
    "# add by row\n",
    "np.sum(my_array,axis=0)"
   ]
  },
  {
   "cell_type": "code",
   "execution_count": 17,
   "id": "f4707e39",
   "metadata": {},
   "outputs": [
    {
     "data": {
      "text/plain": [
       "array([5, 7, 9])"
      ]
     },
     "execution_count": 17,
     "metadata": {},
     "output_type": "execute_result"
    }
   ],
   "source": [
    "# add by column\n",
    "np.sum(my_array,axis=1)"
   ]
  },
  {
   "cell_type": "markdown",
   "id": "0a44c67c",
   "metadata": {},
   "source": [
    "# Measures of Central Tendency"
   ]
  },
  {
   "cell_type": "code",
   "execution_count": 18,
   "id": "fa8476ea",
   "metadata": {},
   "outputs": [],
   "source": [
    "# import and packages\n",
    "import numpy as np\n",
    "from scipy import stats"
   ]
  },
  {
   "cell_type": "code",
   "execution_count": 19,
   "id": "a6dc882e",
   "metadata": {},
   "outputs": [
    {
     "data": {
      "text/plain": [
       "array([120,  60,  85, 150, 200])"
      ]
     },
     "execution_count": 19,
     "metadata": {},
     "output_type": "execute_result"
    }
   ],
   "source": [
    "fruits = np.array([120, 60 ,85 ,150 ,200])\n",
    "fruits"
   ]
  },
  {
   "cell_type": "code",
   "execution_count": 20,
   "id": "4457afad",
   "metadata": {},
   "outputs": [
    {
     "data": {
      "text/plain": [
       "np.float64(123.0)"
      ]
     },
     "execution_count": 20,
     "metadata": {},
     "output_type": "execute_result"
    }
   ],
   "source": [
    "fruits_mean = np.mean(fruits)\n",
    "fruits_mean"
   ]
  },
  {
   "cell_type": "code",
   "execution_count": 21,
   "id": "ee2bbb01",
   "metadata": {},
   "outputs": [
    {
     "data": {
      "text/plain": [
       "np.float64(120.0)"
      ]
     },
     "execution_count": 21,
     "metadata": {},
     "output_type": "execute_result"
    }
   ],
   "source": [
    "median_fruits = np.median(fruits)\n",
    "median_fruits"
   ]
  },
  {
   "cell_type": "code",
   "execution_count": 56,
   "id": "8e4f64bb",
   "metadata": {},
   "outputs": [
    {
     "data": {
      "text/plain": [
       "ModeResult(mode=np.int64(60), count=np.int64(1))"
      ]
     },
     "execution_count": 56,
     "metadata": {},
     "output_type": "execute_result"
    }
   ],
   "source": [
    "mode_fruits = stats.mode(fruits)\n",
    "mode_fruits"
   ]
  },
  {
   "cell_type": "code",
   "execution_count": 54,
   "id": "1b920de2",
   "metadata": {},
   "outputs": [
    {
     "data": {
      "text/plain": [
       "np.float64(54.954526656136345)"
      ]
     },
     "execution_count": 54,
     "metadata": {},
     "output_type": "execute_result"
    }
   ],
   "source": [
    "# sample standard deviation\n",
    "np.std(fruits, ddof=1)"
   ]
  },
  {
   "cell_type": "code",
   "execution_count": 24,
   "id": "55dfe5a0",
   "metadata": {},
   "outputs": [
    {
     "data": {
      "text/plain": [
       "np.float64(120.0)"
      ]
     },
     "execution_count": 24,
     "metadata": {},
     "output_type": "execute_result"
    }
   ],
   "source": [
    "np.median(fruits)"
   ]
  },
  {
   "cell_type": "code",
   "execution_count": 25,
   "id": "87d37ac1",
   "metadata": {},
   "outputs": [
    {
     "data": {
      "text/plain": [
       "ModeResult(mode=np.int64(60), count=np.int64(1))"
      ]
     },
     "execution_count": 25,
     "metadata": {},
     "output_type": "execute_result"
    }
   ],
   "source": [
    "stats.mode(fruits)"
   ]
  },
  {
   "cell_type": "markdown",
   "id": "994a6b3d",
   "metadata": {},
   "source": [
    "# Jaguar Vs Panther"
   ]
  },
  {
   "cell_type": "markdown",
   "id": "cc6683f4",
   "metadata": {},
   "source": [
    "# Jaguar"
   ]
  },
  {
   "cell_type": "code",
   "execution_count": 26,
   "id": "7da6dc2e",
   "metadata": {},
   "outputs": [
    {
     "data": {
      "text/plain": [
       "array([10.6,  9.1,  9.3,  9.8, 10.5, 10.4,  9.5, 11. , 10.4,  3. ,  9.8])"
      ]
     },
     "execution_count": 26,
     "metadata": {},
     "output_type": "execute_result"
    }
   ],
   "source": [
    "jaguar = np.array([10.6,9.1,9.3,9.8,10.5,10.4,9.5,11,10.4,3,9.8])\n",
    "jaguar"
   ]
  },
  {
   "cell_type": "code",
   "execution_count": 27,
   "id": "841befaf",
   "metadata": {},
   "outputs": [
    {
     "data": {
      "text/plain": [
       "np.float64(9.399999999999999)"
      ]
     },
     "execution_count": 27,
     "metadata": {},
     "output_type": "execute_result"
    }
   ],
   "source": [
    "jaguar_mean = np.mean(jaguar)\n",
    "jaguar_mean"
   ]
  },
  {
   "cell_type": "code",
   "execution_count": 28,
   "id": "23020f9f",
   "metadata": {},
   "outputs": [
    {
     "data": {
      "text/plain": [
       "np.float64(9.399999999999999)"
      ]
     },
     "execution_count": 28,
     "metadata": {},
     "output_type": "execute_result"
    }
   ],
   "source": [
    "jaguar_median = np.mean(jaguar)\n",
    "jaguar_median"
   ]
  },
  {
   "cell_type": "code",
   "execution_count": 29,
   "id": "97a79fbd",
   "metadata": {},
   "outputs": [
    {
     "data": {
      "text/plain": [
       "np.float64(9.399999999999999)"
      ]
     },
     "execution_count": 29,
     "metadata": {},
     "output_type": "execute_result"
    }
   ],
   "source": [
    "# sort\n",
    "jaguar_sort = np.mean(jaguar)\n",
    "jaguar_sort"
   ]
  },
  {
   "cell_type": "code",
   "execution_count": 30,
   "id": "efce5fc0",
   "metadata": {},
   "outputs": [
    {
     "data": {
      "text/plain": [
       "ModeResult(mode=np.float64(9.8), count=np.int64(2))"
      ]
     },
     "execution_count": 30,
     "metadata": {},
     "output_type": "execute_result"
    }
   ],
   "source": [
    "# mode\n",
    "stats.mode (jaguar)"
   ]
  },
  {
   "cell_type": "code",
   "execution_count": 31,
   "id": "a6ac2c9a",
   "metadata": {},
   "outputs": [
    {
     "data": {
      "text/plain": [
       "np.float64(8.0)"
      ]
     },
     "execution_count": 31,
     "metadata": {},
     "output_type": "execute_result"
    }
   ],
   "source": [
    "max_jag = np.max(jaguar)\n",
    "min_jag = np.min(jaguar)\n",
    "\n",
    "range_jag = max_jag - min_jag\n",
    "range_jag"
   ]
  },
  {
   "cell_type": "code",
   "execution_count": 32,
   "id": "e824f3a9",
   "metadata": {},
   "outputs": [
    {
     "data": {
      "text/plain": [
       "np.float64(9.4)"
      ]
     },
     "execution_count": 32,
     "metadata": {},
     "output_type": "execute_result"
    }
   ],
   "source": [
    "# Q1\n",
    "q1_jag = np.percentile(jaguar,25)\n",
    "q1_jag"
   ]
  },
  {
   "cell_type": "code",
   "execution_count": 33,
   "id": "eab6711d",
   "metadata": {},
   "outputs": [
    {
     "data": {
      "text/plain": [
       "np.float64(9.8)"
      ]
     },
     "execution_count": 33,
     "metadata": {},
     "output_type": "execute_result"
    }
   ],
   "source": [
    "# Q2\n",
    "q2_jag = np.percentile(jaguar, 50)\n",
    "q2_jag"
   ]
  },
  {
   "cell_type": "code",
   "execution_count": 34,
   "id": "e479c953",
   "metadata": {},
   "outputs": [
    {
     "data": {
      "text/plain": [
       "np.float64(10.45)"
      ]
     },
     "execution_count": 34,
     "metadata": {},
     "output_type": "execute_result"
    }
   ],
   "source": [
    "# Q3\n",
    "q3_jag = np.percentile(jaguar, 75)\n",
    "q3_jag"
   ]
  },
  {
   "cell_type": "code",
   "execution_count": 35,
   "id": "6d566a6a",
   "metadata": {},
   "outputs": [
    {
     "data": {
      "text/plain": [
       "np.float64(1.049999999999999)"
      ]
     },
     "execution_count": 35,
     "metadata": {},
     "output_type": "execute_result"
    }
   ],
   "source": [
    "# IQR\n",
    "iqr_jag = q3_jag - q1_jag\n",
    "iqr_jag"
   ]
  },
  {
   "cell_type": "code",
   "execution_count": 36,
   "id": "ed0950ce",
   "metadata": {},
   "outputs": [
    {
     "data": {
      "text/plain": [
       "np.float64(4.86)"
      ]
     },
     "execution_count": 36,
     "metadata": {},
     "output_type": "execute_result"
    }
   ],
   "source": [
    "# Sample variance\n",
    "std_jag = np.var(jaguar, ddof=1)\n",
    "std_jag"
   ]
  },
  {
   "cell_type": "code",
   "execution_count": 37,
   "id": "cc8949c8",
   "metadata": {},
   "outputs": [
    {
     "data": {
      "text/plain": [
       "np.float64(2.2045407685048604)"
      ]
     },
     "execution_count": 37,
     "metadata": {},
     "output_type": "execute_result"
    }
   ],
   "source": [
    "# Sample standard deviation\n",
    "std_jag = np.std(jaguar, ddof=1)\n",
    "std_jag"
   ]
  },
  {
   "cell_type": "markdown",
   "id": "d6c1320d",
   "metadata": {},
   "source": [
    "# Panther"
   ]
  },
  {
   "cell_type": "code",
   "execution_count": 38,
   "id": "cc853c8a",
   "metadata": {},
   "outputs": [
    {
     "data": {
      "text/plain": [
       "array([10.1, 11. ,  9.1, 20. ,  9.2, 10.8,  9.9,  9.2,  9.1,  9.1])"
      ]
     },
     "execution_count": 38,
     "metadata": {},
     "output_type": "execute_result"
    }
   ],
   "source": [
    "panther = np.array([10.1,11,9.1,20,9.2,10.8,9.9,9.2,9.1,9.1])\n",
    "panther"
   ]
  },
  {
   "cell_type": "code",
   "execution_count": 39,
   "id": "adfb56ac",
   "metadata": {},
   "outputs": [
    {
     "data": {
      "text/plain": [
       "np.float64(10.75)"
      ]
     },
     "execution_count": 39,
     "metadata": {},
     "output_type": "execute_result"
    }
   ],
   "source": [
    "panther_mean = np.mean (panther)\n",
    "panther_mean"
   ]
  },
  {
   "cell_type": "code",
   "execution_count": 40,
   "id": "e548a75a",
   "metadata": {},
   "outputs": [
    {
     "data": {
      "text/plain": [
       "np.float64(10.75)"
      ]
     },
     "execution_count": 40,
     "metadata": {},
     "output_type": "execute_result"
    }
   ],
   "source": [
    "# median\n",
    "panther_median = np.mean (panther)\n",
    "panther_median"
   ]
  },
  {
   "cell_type": "code",
   "execution_count": 41,
   "id": "8af61fca",
   "metadata": {},
   "outputs": [
    {
     "data": {
      "text/plain": [
       "np.float64(10.75)"
      ]
     },
     "execution_count": 41,
     "metadata": {},
     "output_type": "execute_result"
    }
   ],
   "source": [
    "# sort\n",
    "panther_sort = np.mean (panther)\n",
    "panther_sort"
   ]
  },
  {
   "cell_type": "code",
   "execution_count": 42,
   "id": "cc859b9f",
   "metadata": {},
   "outputs": [
    {
     "data": {
      "text/plain": [
       "np.float64(10.75)"
      ]
     },
     "execution_count": 42,
     "metadata": {},
     "output_type": "execute_result"
    }
   ],
   "source": [
    "# mode\n",
    "panther_mode = np.mean (panther)\n",
    "panther_mode"
   ]
  },
  {
   "cell_type": "code",
   "execution_count": 43,
   "id": "4fd3ef52",
   "metadata": {},
   "outputs": [
    {
     "data": {
      "text/plain": [
       "np.float64(10.9)"
      ]
     },
     "execution_count": 43,
     "metadata": {},
     "output_type": "execute_result"
    }
   ],
   "source": [
    "max_pan = np.max(panther)\n",
    "min_pan = np.min(panther)\n",
    "\n",
    "range_pan = max_pan - min_pan\n",
    "range_pan"
   ]
  },
  {
   "cell_type": "code",
   "execution_count": 44,
   "id": "95d0675c",
   "metadata": {},
   "outputs": [
    {
     "data": {
      "text/plain": [
       "np.float64(9.125)"
      ]
     },
     "execution_count": 44,
     "metadata": {},
     "output_type": "execute_result"
    }
   ],
   "source": [
    "# Q1\n",
    "q1_pan = np.percentile(panther,25)\n",
    "q1_pan"
   ]
  },
  {
   "cell_type": "code",
   "execution_count": 45,
   "id": "e6fa4b2d",
   "metadata": {},
   "outputs": [
    {
     "data": {
      "text/plain": [
       "np.float64(9.55)"
      ]
     },
     "execution_count": 45,
     "metadata": {},
     "output_type": "execute_result"
    }
   ],
   "source": [
    "# Q2\n",
    "q2_pan = np.percentile(panther, 50)\n",
    "q2_pan"
   ]
  },
  {
   "cell_type": "code",
   "execution_count": 46,
   "id": "975ebf79",
   "metadata": {},
   "outputs": [
    {
     "data": {
      "text/plain": [
       "np.float64(10.625)"
      ]
     },
     "execution_count": 46,
     "metadata": {},
     "output_type": "execute_result"
    }
   ],
   "source": [
    "# Q3\n",
    "q3_pan = np.percentile(panther, 75)\n",
    "q3_pan"
   ]
  },
  {
   "cell_type": "code",
   "execution_count": 47,
   "id": "742c7fa3",
   "metadata": {},
   "outputs": [
    {
     "data": {
      "text/plain": [
       "np.float64(1.5)"
      ]
     },
     "execution_count": 47,
     "metadata": {},
     "output_type": "execute_result"
    }
   ],
   "source": [
    "# IQR\n",
    "iqr_pan = q3_pan - q1_pan\n",
    "iqr_pan"
   ]
  },
  {
   "cell_type": "code",
   "execution_count": 48,
   "id": "dedc1933",
   "metadata": {},
   "outputs": [
    {
     "data": {
      "text/plain": [
       "np.float64(11.082777777777777)"
      ]
     },
     "execution_count": 48,
     "metadata": {},
     "output_type": "execute_result"
    }
   ],
   "source": [
    "# Sample variance\n",
    "std_pan = np.var(panther, ddof=1)\n",
    "std_pan"
   ]
  },
  {
   "cell_type": "code",
   "execution_count": 49,
   "id": "32f6a8ac",
   "metadata": {},
   "outputs": [
    {
     "data": {
      "text/plain": [
       "np.float64(3.3290806204983645)"
      ]
     },
     "execution_count": 49,
     "metadata": {},
     "output_type": "execute_result"
    }
   ],
   "source": [
    "# Sample standard deviation\n",
    "std_pan = np.std(panther, ddof=1)\n",
    "std_pan"
   ]
  }
 ],
 "metadata": {
  "kernelspec": {
   "display_name": "Python 3",
   "language": "python",
   "name": "python3"
  },
  "language_info": {
   "codemirror_mode": {
    "name": "ipython",
    "version": 3
   },
   "file_extension": ".py",
   "mimetype": "text/x-python",
   "name": "python",
   "nbconvert_exporter": "python",
   "pygments_lexer": "ipython3",
   "version": "3.13.2"
  }
 },
 "nbformat": 4,
 "nbformat_minor": 5
}
